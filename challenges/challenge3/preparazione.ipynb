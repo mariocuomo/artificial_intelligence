{
 "cells": [
  {
   "cell_type": "markdown",
   "metadata": {},
   "source": [
    "## Import librerie e oggetti\n",
    "* **pandas** per la manipolazione dei dati in formato tabellare \n",
    "* **sklearn (Scikit-learn)** per l'utilizzo di algoritmi di split dati\n",
    "    * *train_test_split*, strumento ausialiario splittare un dataset in due porzioni - train e test\n",
    "* **<item.csv>** file csv contenente il dataset inizale"
   ]
  },
  {
   "cell_type": "code",
   "execution_count": 1,
   "metadata": {},
   "outputs": [
    {
     "name": "stdout",
     "output_type": "stream",
     "text": [
      "/bin/sh: 1: sudo: Permission denied\r\n"
     ]
    }
   ],
   "source": [
    "!sudo apt update && sudo apt install -y graphviz"
   ]
  },
  {
   "cell_type": "code",
   "execution_count": 2,
   "metadata": {},
   "outputs": [
    {
     "name": "stdout",
     "output_type": "stream",
     "text": [
      "Requirement already satisfied: graphviz in /home/mario/snap/jupyter/common/lib/python3.7/site-packages (0.16)\n",
      "Requirement already satisfied: mglearn in /home/mario/snap/jupyter/common/lib/python3.7/site-packages (0.1.9)\n",
      "Requirement already satisfied: cycler in /home/mario/snap/jupyter/common/lib/python3.7/site-packages (from mglearn) (0.10.0)\n",
      "Requirement already satisfied: imageio in /home/mario/snap/jupyter/common/lib/python3.7/site-packages (from mglearn) (2.9.0)\n",
      "Requirement already satisfied: matplotlib in /home/mario/snap/jupyter/common/lib/python3.7/site-packages (from mglearn) (3.4.2)\n",
      "Requirement already satisfied: pillow in /home/mario/snap/jupyter/common/lib/python3.7/site-packages (from mglearn) (8.2.0)\n",
      "Requirement already satisfied: scikit-learn in /home/mario/snap/jupyter/common/lib/python3.7/site-packages (from mglearn) (0.24.1)\n",
      "Requirement already satisfied: joblib in /home/mario/snap/jupyter/common/lib/python3.7/site-packages (from mglearn) (1.0.1)\n",
      "Requirement already satisfied: pandas in /home/mario/snap/jupyter/common/lib/python3.7/site-packages (from mglearn) (1.2.4)\n",
      "Requirement already satisfied: numpy in /home/mario/snap/jupyter/common/lib/python3.7/site-packages (from mglearn) (1.20.3)\n",
      "Requirement already satisfied: six in /snap/jupyter/6/lib/python3.7/site-packages (from cycler->mglearn) (1.12.0)\n",
      "Requirement already satisfied: kiwisolver>=1.0.1 in /home/mario/snap/jupyter/common/lib/python3.7/site-packages (from matplotlib->mglearn) (1.3.1)\n",
      "Requirement already satisfied: pyparsing>=2.2.1 in /home/mario/snap/jupyter/common/lib/python3.7/site-packages (from matplotlib->mglearn) (2.4.7)\n",
      "Requirement already satisfied: python-dateutil>=2.7 in /snap/jupyter/6/lib/python3.7/site-packages (from matplotlib->mglearn) (2.8.0)\n",
      "Requirement already satisfied: threadpoolctl>=2.0.0 in /home/mario/snap/jupyter/common/lib/python3.7/site-packages (from scikit-learn->mglearn) (2.1.0)\n",
      "Requirement already satisfied: scipy>=0.19.1 in /home/mario/snap/jupyter/common/lib/python3.7/site-packages (from scikit-learn->mglearn) (1.6.3)\n",
      "Requirement already satisfied: pytz>=2017.3 in /home/mario/snap/jupyter/common/lib/python3.7/site-packages (from pandas->mglearn) (2021.1)\n",
      "Requirement already satisfied: scikit-learn==0.24.1 in /home/mario/snap/jupyter/common/lib/python3.7/site-packages (0.24.1)\n",
      "Requirement already satisfied: numpy>=1.13.3 in /home/mario/snap/jupyter/common/lib/python3.7/site-packages (from scikit-learn==0.24.1) (1.20.3)\n",
      "Requirement already satisfied: joblib>=0.11 in /home/mario/snap/jupyter/common/lib/python3.7/site-packages (from scikit-learn==0.24.1) (1.0.1)\n",
      "Requirement already satisfied: threadpoolctl>=2.0.0 in /home/mario/snap/jupyter/common/lib/python3.7/site-packages (from scikit-learn==0.24.1) (2.1.0)\n",
      "Requirement already satisfied: scipy>=0.19.1 in /home/mario/snap/jupyter/common/lib/python3.7/site-packages (from scikit-learn==0.24.1) (1.6.3)\n",
      "Requirement already satisfied: pandas in /home/mario/snap/jupyter/common/lib/python3.7/site-packages (1.2.4)\n",
      "Requirement already satisfied: pytz>=2017.3 in /home/mario/snap/jupyter/common/lib/python3.7/site-packages (from pandas) (2021.1)\n",
      "Requirement already satisfied: python-dateutil>=2.7.3 in /snap/jupyter/6/lib/python3.7/site-packages (from pandas) (2.8.0)\n",
      "Requirement already satisfied: numpy>=1.16.5 in /home/mario/snap/jupyter/common/lib/python3.7/site-packages (from pandas) (1.20.3)\n",
      "Requirement already satisfied: six>=1.5 in /snap/jupyter/6/lib/python3.7/site-packages (from python-dateutil>=2.7.3->pandas) (1.12.0)\n"
     ]
    }
   ],
   "source": [
    "!pip install graphviz\n",
    "!pip install mglearn\n",
    "!pip install scikit-learn=='0.24.1'\n",
    "!pip install pandas"
   ]
  },
  {
   "cell_type": "code",
   "execution_count": 3,
   "metadata": {},
   "outputs": [
    {
     "name": "stderr",
     "output_type": "stream",
     "text": [
      "/home/mario/snap/jupyter/common/lib/python3.7/site-packages/joblib/_multiprocessing_helpers.py:45: UserWarning: [Errno 13] Permission denied.  joblib will operate in serial mode\n",
      "  warnings.warn('%s.  joblib will operate in serial mode' % (e,))\n"
     ]
    }
   ],
   "source": [
    "import pandas as pd\n",
    "from sklearn.model_selection import train_test_split"
   ]
  },
  {
   "cell_type": "code",
   "execution_count": 4,
   "metadata": {},
   "outputs": [],
   "source": [
    "dataframe = pd.read_csv('combats.partial.csv',dtype=str)"
   ]
  },
  {
   "cell_type": "markdown",
   "metadata": {},
   "source": [
    "## Split dati e salvataggio .csv"
   ]
  },
  {
   "cell_type": "code",
   "execution_count": 5,
   "metadata": {},
   "outputs": [],
   "source": [
    "#splitta i dati in rapporto 1:5 <test:train>\\\n",
    "train, test = train_test_split(dataframe, test_size=0.2, random_state=42)"
   ]
  },
  {
   "cell_type": "code",
   "execution_count": 6,
   "metadata": {},
   "outputs": [],
   "source": [
    "train.to_csv('train.csv',index=False)"
   ]
  },
  {
   "cell_type": "code",
   "execution_count": 7,
   "metadata": {},
   "outputs": [],
   "source": [
    "test.to_csv('test.csv',index=False)"
   ]
  }
 ],
 "metadata": {
  "kernelspec": {
   "display_name": "Python 3",
   "language": "python",
   "name": "python3"
  },
  "language_info": {
   "codemirror_mode": {
    "name": "ipython",
    "version": 3
   },
   "file_extension": ".py",
   "mimetype": "text/x-python",
   "name": "python",
   "nbconvert_exporter": "python",
   "pygments_lexer": "ipython3",
   "version": "3.7.3"
  }
 },
 "nbformat": 4,
 "nbformat_minor": 4
}

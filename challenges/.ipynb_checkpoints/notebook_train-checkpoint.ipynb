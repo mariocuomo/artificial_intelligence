{
 "cells": [
  {
   "cell_type": "code",
   "execution_count": 1,
   "metadata": {
    "scrolled": false
   },
   "outputs": [
    {
     "name": "stdout",
     "output_type": "stream",
     "text": [
      "Requirement already satisfied: graphviz in /home/mario/anaconda3/lib/python3.7/site-packages (0.16)\n",
      "Requirement already satisfied: mglearn in /home/mario/anaconda3/lib/python3.7/site-packages (0.1.9)\n",
      "Requirement already satisfied: imageio in /home/mario/anaconda3/lib/python3.7/site-packages (from mglearn) (2.6.1)\n",
      "Requirement already satisfied: pandas in /home/mario/anaconda3/lib/python3.7/site-packages (from mglearn) (1.0.1)\n",
      "Requirement already satisfied: matplotlib in /home/mario/anaconda3/lib/python3.7/site-packages (from mglearn) (3.1.3)\n",
      "Requirement already satisfied: cycler in /home/mario/anaconda3/lib/python3.7/site-packages (from mglearn) (0.10.0)\n",
      "Requirement already satisfied: joblib in /home/mario/anaconda3/lib/python3.7/site-packages (from mglearn) (0.14.1)\n",
      "Requirement already satisfied: scikit-learn in /home/mario/anaconda3/lib/python3.7/site-packages (from mglearn) (0.24.1)\n",
      "Requirement already satisfied: pillow in /home/mario/anaconda3/lib/python3.7/site-packages (from mglearn) (7.0.0)\n",
      "Requirement already satisfied: numpy in /home/mario/anaconda3/lib/python3.7/site-packages (from mglearn) (1.18.1)\n",
      "Requirement already satisfied: pytz>=2017.2 in /home/mario/anaconda3/lib/python3.7/site-packages (from pandas->mglearn) (2019.3)\n",
      "Requirement already satisfied: python-dateutil>=2.6.1 in /home/mario/anaconda3/lib/python3.7/site-packages (from pandas->mglearn) (2.8.1)\n",
      "Requirement already satisfied: kiwisolver>=1.0.1 in /home/mario/anaconda3/lib/python3.7/site-packages (from matplotlib->mglearn) (1.1.0)\n",
      "Requirement already satisfied: pyparsing!=2.0.4,!=2.1.2,!=2.1.6,>=2.0.1 in /home/mario/anaconda3/lib/python3.7/site-packages (from matplotlib->mglearn) (2.4.6)\n",
      "Requirement already satisfied: six in /home/mario/anaconda3/lib/python3.7/site-packages (from cycler->mglearn) (1.14.0)\n",
      "Requirement already satisfied: scipy>=0.19.1 in /home/mario/anaconda3/lib/python3.7/site-packages (from scikit-learn->mglearn) (1.4.1)\n",
      "Requirement already satisfied: threadpoolctl>=2.0.0 in /home/mario/anaconda3/lib/python3.7/site-packages (from scikit-learn->mglearn) (2.1.0)\n",
      "Requirement already satisfied: setuptools in /home/mario/anaconda3/lib/python3.7/site-packages (from kiwisolver>=1.0.1->matplotlib->mglearn) (45.2.0.post20200210)\n",
      "Requirement already satisfied: scikit-learn==0.24.1 in /home/mario/anaconda3/lib/python3.7/site-packages (0.24.1)\n",
      "Requirement already satisfied: numpy>=1.13.3 in /home/mario/anaconda3/lib/python3.7/site-packages (from scikit-learn==0.24.1) (1.18.1)\n",
      "Requirement already satisfied: scipy>=0.19.1 in /home/mario/anaconda3/lib/python3.7/site-packages (from scikit-learn==0.24.1) (1.4.1)\n",
      "Requirement already satisfied: threadpoolctl>=2.0.0 in /home/mario/anaconda3/lib/python3.7/site-packages (from scikit-learn==0.24.1) (2.1.0)\n",
      "Requirement already satisfied: joblib>=0.11 in /home/mario/anaconda3/lib/python3.7/site-packages (from scikit-learn==0.24.1) (0.14.1)\n"
     ]
    }
   ],
   "source": [
    "#importa tutte le librerie necessarie\n",
    "!pip install graphviz\n",
    "!pip install mglearn\n",
    "!pip install scikit-learn=='0.24.1'\n",
    "import pandas as pd\n",
    "from sklearn.model_selection import train_test_split\n",
    "from sklearn.neighbors import KNeighborsClassifier\n",
    "import mglearn\n",
    "from sklearn.preprocessing import LabelEncoder"
   ]
  },
  {
   "cell_type": "code",
   "execution_count": null,
   "metadata": {},
   "outputs": [],
   "source": [
    "#importa il csv\n",
    "data = pd.read_csv('mushrooms.partial.csv.gz', compression='gzip',\n",
    "                   error_bad_lines=False,dtype=str)"
   ]
  },
  {
   "cell_type": "code",
   "execution_count": null,
   "metadata": {},
   "outputs": [],
   "source": [
    "#stampa il dataset\n",
    "data"
   ]
  },
  {
   "cell_type": "markdown",
   "metadata": {},
   "source": [
    "# Pre-processing"
   ]
  },
  {
   "cell_type": "code",
   "execution_count": null,
   "metadata": {},
   "outputs": [],
   "source": [
    "#effettua l'encoding del dataset da valori espressi in string a valori espressi in int\n",
    "le = LabelEncoder()\n",
    "data_encoded = data.apply(le.fit_transform)"
   ]
  },
  {
   "cell_type": "code",
   "execution_count": null,
   "metadata": {},
   "outputs": [],
   "source": [
    "#splitta i dati per avere feature (X) e target (y)\n",
    "y = data_encoded.pop('class')\n",
    "X = data_encoded"
   ]
  },
  {
   "cell_type": "code",
   "execution_count": null,
   "metadata": {},
   "outputs": [],
   "source": [
    "#X"
   ]
  },
  {
   "cell_type": "code",
   "execution_count": null,
   "metadata": {},
   "outputs": [],
   "source": [
    "#y"
   ]
  },
  {
   "cell_type": "code",
   "execution_count": null,
   "metadata": {},
   "outputs": [],
   "source": [
    "#dividi il dataset in due parti per la fase di train e di test\n",
    "X_train, X_test, y_train, y_test = train_test_split(X, y, random_state=0)"
   ]
  },
  {
   "cell_type": "code",
   "execution_count": null,
   "metadata": {},
   "outputs": [],
   "source": [
    "#X_train"
   ]
  },
  {
   "cell_type": "code",
   "execution_count": null,
   "metadata": {},
   "outputs": [],
   "source": [
    "#y_train"
   ]
  },
  {
   "cell_type": "markdown",
   "metadata": {},
   "source": [
    "# k-Nearest Neighbours"
   ]
  },
  {
   "cell_type": "code",
   "execution_count": null,
   "metadata": {},
   "outputs": [],
   "source": [
    "#effettua la classificazione\n",
    "clf = KNeighborsClassifier(n_neighbors=3)"
   ]
  },
  {
   "cell_type": "code",
   "execution_count": null,
   "metadata": {},
   "outputs": [],
   "source": [
    "#effettua il train\n",
    "clf.fit(X_train, y_train)"
   ]
  },
  {
   "cell_type": "code",
   "execution_count": null,
   "metadata": {},
   "outputs": [],
   "source": [
    "print(\"Test set accuracy: {:.2f}\".format(clf.score(X_test, y_test)))"
   ]
  },
  {
   "cell_type": "markdown",
   "metadata": {},
   "source": [
    "# Logistic Regression"
   ]
  },
  {
   "cell_type": "code",
   "execution_count": null,
   "metadata": {},
   "outputs": [],
   "source": [
    "from sklearn.linear_model import LogisticRegression\n",
    "import mglearn"
   ]
  },
  {
   "cell_type": "code",
   "execution_count": null,
   "metadata": {},
   "outputs": [],
   "source": [
    "%matplotlib inline\n",
    "from matplotlib import pyplot as plt"
   ]
  },
  {
   "cell_type": "code",
   "execution_count": null,
   "metadata": {},
   "outputs": [],
   "source": [
    "logreg = LogisticRegression(solver='saga')"
   ]
  },
  {
   "cell_type": "code",
   "execution_count": null,
   "metadata": {},
   "outputs": [],
   "source": [
    "logreg.fit(X_train, y_train)"
   ]
  },
  {
   "cell_type": "code",
   "execution_count": null,
   "metadata": {},
   "outputs": [],
   "source": [
    "print(\"Test set score: {:.3f}\".format(logreg.score(X_test, y_test)))"
   ]
  },
  {
   "cell_type": "markdown",
   "metadata": {},
   "source": [
    "# Decision trees"
   ]
  },
  {
   "cell_type": "code",
   "execution_count": null,
   "metadata": {},
   "outputs": [],
   "source": [
    "from sklearn.tree import DecisionTreeClassifier"
   ]
  },
  {
   "cell_type": "code",
   "execution_count": null,
   "metadata": {},
   "outputs": [],
   "source": [
    "tree = DecisionTreeClassifier(max_depth=4,random_state=42)\n",
    "tree.fit(X_train, y_train)"
   ]
  },
  {
   "cell_type": "code",
   "execution_count": null,
   "metadata": {},
   "outputs": [],
   "source": [
    "print(\"Accuracy on training set: {:.3f}\".format(tree.score(X_train, y_train)))\n",
    "print(\"Accuracy on test set: {:.3f}\".format(tree.score(X_test, y_test)))"
   ]
  },
  {
   "cell_type": "code",
   "execution_count": null,
   "metadata": {},
   "outputs": [],
   "source": [
    "tree = mglearn.plots.plot_tree_not_monotone()\n",
    "display(tree)"
   ]
  },
  {
   "cell_type": "code",
   "execution_count": null,
   "metadata": {},
   "outputs": [],
   "source": [
    "# Normalize the data attributes for the Iris dataset.\n",
    "from sklearn.datasets import load_iris\n",
    "from sklearn import preprocessing\n",
    "# load the iris dataset\n",
    "iris = load_iris()\n",
    "print(iris.data.shape)\n",
    "# separate the data from the target attributes\n",
    "X = iris.data\n",
    "y = iris.target\n",
    "# normalize the data attributes\n",
    "normalized_X = preprocessing.normalize(X)"
   ]
  },
  {
   "cell_type": "code",
   "execution_count": null,
   "metadata": {},
   "outputs": [],
   "source": []
  }
 ],
 "metadata": {
  "kernelspec": {
   "display_name": "Python 3",
   "language": "python",
   "name": "python3"
  },
  "language_info": {
   "codemirror_mode": {
    "name": "ipython",
    "version": 3
   },
   "file_extension": ".py",
   "mimetype": "text/x-python",
   "name": "python",
   "nbconvert_exporter": "python",
   "pygments_lexer": "ipython3",
   "version": "3.7.6"
  }
 },
 "nbformat": 4,
 "nbformat_minor": 4
}
